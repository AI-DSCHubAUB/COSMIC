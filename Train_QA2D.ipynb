{
  "nbformat": 4,
  "nbformat_minor": 0,
  "metadata": {
    "colab": {
      "provenance": [],
      "gpuType": "T4"
    },
    "kernelspec": {
      "name": "python3",
      "display_name": "Python 3"
    },
    "language_info": {
      "name": "python"
    },
    "accelerator": "GPU",
    "widgets": {
      "application/vnd.jupyter.widget-state+json": {
        "8a1201b12a36468db854480641686b4e": {
          "model_module": "@jupyter-widgets/controls",
          "model_name": "HBoxModel",
          "model_module_version": "1.5.0",
          "state": {
            "_dom_classes": [],
            "_model_module": "@jupyter-widgets/controls",
            "_model_module_version": "1.5.0",
            "_model_name": "HBoxModel",
            "_view_count": null,
            "_view_module": "@jupyter-widgets/controls",
            "_view_module_version": "1.5.0",
            "_view_name": "HBoxView",
            "box_style": "",
            "children": [
              "IPY_MODEL_320b4f4766044ea781442e01cc631f80",
              "IPY_MODEL_37d7a4303d48464cbb115b15213b634c",
              "IPY_MODEL_7e609d0a29a442a4b05a88b6e81171d8"
            ],
            "layout": "IPY_MODEL_a9379f6b1be64377a922d7b58e409ad4"
          }
        },
        "320b4f4766044ea781442e01cc631f80": {
          "model_module": "@jupyter-widgets/controls",
          "model_name": "HTMLModel",
          "model_module_version": "1.5.0",
          "state": {
            "_dom_classes": [],
            "_model_module": "@jupyter-widgets/controls",
            "_model_module_version": "1.5.0",
            "_model_name": "HTMLModel",
            "_view_count": null,
            "_view_module": "@jupyter-widgets/controls",
            "_view_module_version": "1.5.0",
            "_view_name": "HTMLView",
            "description": "",
            "description_tooltip": null,
            "layout": "IPY_MODEL_0f0e05698994438c85de31b7cfb1b630",
            "placeholder": "​",
            "style": "IPY_MODEL_e74187fe55d24961abf675460891245c",
            "value": "Loading checkpoint shards: 100%"
          }
        },
        "37d7a4303d48464cbb115b15213b634c": {
          "model_module": "@jupyter-widgets/controls",
          "model_name": "FloatProgressModel",
          "model_module_version": "1.5.0",
          "state": {
            "_dom_classes": [],
            "_model_module": "@jupyter-widgets/controls",
            "_model_module_version": "1.5.0",
            "_model_name": "FloatProgressModel",
            "_view_count": null,
            "_view_module": "@jupyter-widgets/controls",
            "_view_module_version": "1.5.0",
            "_view_name": "ProgressView",
            "bar_style": "success",
            "description": "",
            "description_tooltip": null,
            "layout": "IPY_MODEL_84f2874feb314074828a069601982481",
            "max": 33,
            "min": 0,
            "orientation": "horizontal",
            "style": "IPY_MODEL_004aec6e51a743c7958ff809303f3a37",
            "value": 33
          }
        },
        "7e609d0a29a442a4b05a88b6e81171d8": {
          "model_module": "@jupyter-widgets/controls",
          "model_name": "HTMLModel",
          "model_module_version": "1.5.0",
          "state": {
            "_dom_classes": [],
            "_model_module": "@jupyter-widgets/controls",
            "_model_module_version": "1.5.0",
            "_model_name": "HTMLModel",
            "_view_count": null,
            "_view_module": "@jupyter-widgets/controls",
            "_view_module_version": "1.5.0",
            "_view_name": "HTMLView",
            "description": "",
            "description_tooltip": null,
            "layout": "IPY_MODEL_d041c8f597144cd7b2ec2711e2372c2e",
            "placeholder": "​",
            "style": "IPY_MODEL_43700eea6a354611a5205d0175925404",
            "value": " 33/33 [01:42&lt;00:00,  3.38s/it]"
          }
        },
        "a9379f6b1be64377a922d7b58e409ad4": {
          "model_module": "@jupyter-widgets/base",
          "model_name": "LayoutModel",
          "model_module_version": "1.2.0",
          "state": {
            "_model_module": "@jupyter-widgets/base",
            "_model_module_version": "1.2.0",
            "_model_name": "LayoutModel",
            "_view_count": null,
            "_view_module": "@jupyter-widgets/base",
            "_view_module_version": "1.2.0",
            "_view_name": "LayoutView",
            "align_content": null,
            "align_items": null,
            "align_self": null,
            "border": null,
            "bottom": null,
            "display": null,
            "flex": null,
            "flex_flow": null,
            "grid_area": null,
            "grid_auto_columns": null,
            "grid_auto_flow": null,
            "grid_auto_rows": null,
            "grid_column": null,
            "grid_gap": null,
            "grid_row": null,
            "grid_template_areas": null,
            "grid_template_columns": null,
            "grid_template_rows": null,
            "height": null,
            "justify_content": null,
            "justify_items": null,
            "left": null,
            "margin": null,
            "max_height": null,
            "max_width": null,
            "min_height": null,
            "min_width": null,
            "object_fit": null,
            "object_position": null,
            "order": null,
            "overflow": null,
            "overflow_x": null,
            "overflow_y": null,
            "padding": null,
            "right": null,
            "top": null,
            "visibility": null,
            "width": null
          }
        },
        "0f0e05698994438c85de31b7cfb1b630": {
          "model_module": "@jupyter-widgets/base",
          "model_name": "LayoutModel",
          "model_module_version": "1.2.0",
          "state": {
            "_model_module": "@jupyter-widgets/base",
            "_model_module_version": "1.2.0",
            "_model_name": "LayoutModel",
            "_view_count": null,
            "_view_module": "@jupyter-widgets/base",
            "_view_module_version": "1.2.0",
            "_view_name": "LayoutView",
            "align_content": null,
            "align_items": null,
            "align_self": null,
            "border": null,
            "bottom": null,
            "display": null,
            "flex": null,
            "flex_flow": null,
            "grid_area": null,
            "grid_auto_columns": null,
            "grid_auto_flow": null,
            "grid_auto_rows": null,
            "grid_column": null,
            "grid_gap": null,
            "grid_row": null,
            "grid_template_areas": null,
            "grid_template_columns": null,
            "grid_template_rows": null,
            "height": null,
            "justify_content": null,
            "justify_items": null,
            "left": null,
            "margin": null,
            "max_height": null,
            "max_width": null,
            "min_height": null,
            "min_width": null,
            "object_fit": null,
            "object_position": null,
            "order": null,
            "overflow": null,
            "overflow_x": null,
            "overflow_y": null,
            "padding": null,
            "right": null,
            "top": null,
            "visibility": null,
            "width": null
          }
        },
        "e74187fe55d24961abf675460891245c": {
          "model_module": "@jupyter-widgets/controls",
          "model_name": "DescriptionStyleModel",
          "model_module_version": "1.5.0",
          "state": {
            "_model_module": "@jupyter-widgets/controls",
            "_model_module_version": "1.5.0",
            "_model_name": "DescriptionStyleModel",
            "_view_count": null,
            "_view_module": "@jupyter-widgets/base",
            "_view_module_version": "1.2.0",
            "_view_name": "StyleView",
            "description_width": ""
          }
        },
        "84f2874feb314074828a069601982481": {
          "model_module": "@jupyter-widgets/base",
          "model_name": "LayoutModel",
          "model_module_version": "1.2.0",
          "state": {
            "_model_module": "@jupyter-widgets/base",
            "_model_module_version": "1.2.0",
            "_model_name": "LayoutModel",
            "_view_count": null,
            "_view_module": "@jupyter-widgets/base",
            "_view_module_version": "1.2.0",
            "_view_name": "LayoutView",
            "align_content": null,
            "align_items": null,
            "align_self": null,
            "border": null,
            "bottom": null,
            "display": null,
            "flex": null,
            "flex_flow": null,
            "grid_area": null,
            "grid_auto_columns": null,
            "grid_auto_flow": null,
            "grid_auto_rows": null,
            "grid_column": null,
            "grid_gap": null,
            "grid_row": null,
            "grid_template_areas": null,
            "grid_template_columns": null,
            "grid_template_rows": null,
            "height": null,
            "justify_content": null,
            "justify_items": null,
            "left": null,
            "margin": null,
            "max_height": null,
            "max_width": null,
            "min_height": null,
            "min_width": null,
            "object_fit": null,
            "object_position": null,
            "order": null,
            "overflow": null,
            "overflow_x": null,
            "overflow_y": null,
            "padding": null,
            "right": null,
            "top": null,
            "visibility": null,
            "width": null
          }
        },
        "004aec6e51a743c7958ff809303f3a37": {
          "model_module": "@jupyter-widgets/controls",
          "model_name": "ProgressStyleModel",
          "model_module_version": "1.5.0",
          "state": {
            "_model_module": "@jupyter-widgets/controls",
            "_model_module_version": "1.5.0",
            "_model_name": "ProgressStyleModel",
            "_view_count": null,
            "_view_module": "@jupyter-widgets/base",
            "_view_module_version": "1.2.0",
            "_view_name": "StyleView",
            "bar_color": null,
            "description_width": ""
          }
        },
        "d041c8f597144cd7b2ec2711e2372c2e": {
          "model_module": "@jupyter-widgets/base",
          "model_name": "LayoutModel",
          "model_module_version": "1.2.0",
          "state": {
            "_model_module": "@jupyter-widgets/base",
            "_model_module_version": "1.2.0",
            "_model_name": "LayoutModel",
            "_view_count": null,
            "_view_module": "@jupyter-widgets/base",
            "_view_module_version": "1.2.0",
            "_view_name": "LayoutView",
            "align_content": null,
            "align_items": null,
            "align_self": null,
            "border": null,
            "bottom": null,
            "display": null,
            "flex": null,
            "flex_flow": null,
            "grid_area": null,
            "grid_auto_columns": null,
            "grid_auto_flow": null,
            "grid_auto_rows": null,
            "grid_column": null,
            "grid_gap": null,
            "grid_row": null,
            "grid_template_areas": null,
            "grid_template_columns": null,
            "grid_template_rows": null,
            "height": null,
            "justify_content": null,
            "justify_items": null,
            "left": null,
            "margin": null,
            "max_height": null,
            "max_width": null,
            "min_height": null,
            "min_width": null,
            "object_fit": null,
            "object_position": null,
            "order": null,
            "overflow": null,
            "overflow_x": null,
            "overflow_y": null,
            "padding": null,
            "right": null,
            "top": null,
            "visibility": null,
            "width": null
          }
        },
        "43700eea6a354611a5205d0175925404": {
          "model_module": "@jupyter-widgets/controls",
          "model_name": "DescriptionStyleModel",
          "model_module_version": "1.5.0",
          "state": {
            "_model_module": "@jupyter-widgets/controls",
            "_model_module_version": "1.5.0",
            "_model_name": "DescriptionStyleModel",
            "_view_count": null,
            "_view_module": "@jupyter-widgets/base",
            "_view_module_version": "1.2.0",
            "_view_name": "StyleView",
            "description_width": ""
          }
        }
      }
    }
  },
  "cells": [
    {
      "cell_type": "markdown",
      "source": [
        "# Install Libraries"
      ],
      "metadata": {
        "id": "UbfZAc4L7Oj2"
      }
    },
    {
      "cell_type": "code",
      "execution_count": null,
      "metadata": {
        "id": "Ci4gyDBa1YkD"
      },
      "outputs": [],
      "source": [
        "!pip install -q xturing datasets"
      ]
    },
    {
      "cell_type": "code",
      "source": [
        "!pip install -q bitsandbytes==0.44.0  accelerate==1.1.1, peft==0.11.0"
      ],
      "metadata": {
        "colab": {
          "base_uri": "https://localhost:8080/"
        },
        "id": "ovLrct-C40rE",
        "outputId": "fc006a88-a34a-4672-8952-a192bd697ad1"
      },
      "execution_count": null,
      "outputs": [
        {
          "output_type": "stream",
          "name": "stdout",
          "text": [
            "\u001b[?25l   \u001b[90m━━━━━━━━━━━━━━━━━━━━━━━━━━━━━━━━━━━━━━━━\u001b[0m \u001b[32m0.0/251.2 kB\u001b[0m \u001b[31m?\u001b[0m eta \u001b[36m-:--:--\u001b[0m\r\u001b[2K   \u001b[90m━━━━━━━━━━━━━━━━━━━━━━━━━━━━━━━━━━━━━━━━\u001b[0m \u001b[32m251.2/251.2 kB\u001b[0m \u001b[31m9.8 MB/s\u001b[0m eta \u001b[36m0:00:00\u001b[0m\n",
            "\u001b[?25h"
          ]
        }
      ]
    },
    {
      "cell_type": "code",
      "source": [
        "!pip install -U triton=='3.1.0'"
      ],
      "metadata": {
        "id": "8-HEDWWf9lDn"
      },
      "execution_count": null,
      "outputs": []
    },
    {
      "cell_type": "markdown",
      "source": [
        "# Process data"
      ],
      "metadata": {
        "id": "rHQgZcsz7SfF"
      }
    },
    {
      "cell_type": "code",
      "source": [
        "# For the original dataset, download the data from the codelabs link in the github repository https://github.com/kelvinguu/qanli\n",
        "# Then, use the code below to load it and process it\n",
        "import pandas as pd\n",
        "df1 = pd.read_csv('train.csv',header=0,sep='\\t',encoding='utf-8')\n",
        "df2 = pd.read_csv('dev.csv',header=0,sep='\\t',encoding='utf-8')\n",
        "df = pd.concat([df1, df2])\n",
        "\n",
        "df = pd.concat([df1, df2])\n",
        "\n",
        "df['turker_answer_mod'] = df.apply(lambda x : x['turker_answer'].replace(str(x['answer']),'MASK'),axis=1)\n",
        "df = df[df['turker_answer_mod'].str.contains('MASK')]\n",
        "df['turker_answer_mod'].str.contains('MASK')\n",
        "df['turker_answer_mod'] = df['turker_answer_mod'].astype('unicode')\n",
        "df['question'] = df['question'].astype('unicode')\n",
        "df['turker_answer_mod'] = df.apply(lambda x : x['turker_answer'] if str(x['answer']) in x['turker_answer'] else \"NONEE\" ,axis=1)\n",
        "df = df[df['turker_answer_mod'].str.contains('NONEE')==False]"
      ],
      "metadata": {
        "colab": {
          "base_uri": "https://localhost:8080/"
        },
        "id": "lDdvNX1d3Cs1",
        "outputId": "a7527d91-9bea-4ae6-986a-c3abfff937b8"
      },
      "execution_count": null,
      "outputs": [
        {
          "output_type": "stream",
          "name": "stderr",
          "text": [
            "<ipython-input-2-37ef4768013e>:10: SettingWithCopyWarning: \n",
            "A value is trying to be set on a copy of a slice from a DataFrame.\n",
            "Try using .loc[row_indexer,col_indexer] = value instead\n",
            "\n",
            "See the caveats in the documentation: https://pandas.pydata.org/pandas-docs/stable/user_guide/indexing.html#returning-a-view-versus-a-copy\n",
            "  df['turker_answer_mod'] = df['turker_answer_mod'].astype('unicode')\n",
            "<ipython-input-2-37ef4768013e>:11: SettingWithCopyWarning: \n",
            "A value is trying to be set on a copy of a slice from a DataFrame.\n",
            "Try using .loc[row_indexer,col_indexer] = value instead\n",
            "\n",
            "See the caveats in the documentation: https://pandas.pydata.org/pandas-docs/stable/user_guide/indexing.html#returning-a-view-versus-a-copy\n",
            "  df['question'] = df['question'].astype('unicode')\n"
          ]
        }
      ]
    },
    {
      "cell_type": "code",
      "source": [
        "inputs = []\n",
        "outputs = []\n",
        "for index, row in df.iterrows():\n",
        "    if row['question'] != ''  and row['answer'] != '' and row['turker_answer'] != '':\n",
        "        inputs.append(str(row['question'])+'<BSA>'+str(row['answer'])+\"<ESA>\")\n",
        "        outputs.append('<BLA>'+row['turker_answer']+'<ELA>')"
      ],
      "metadata": {
        "id": "K93uQJpd3Ov4"
      },
      "execution_count": null,
      "outputs": []
    },
    {
      "cell_type": "code",
      "source": [
        "import random\n",
        "random_indices = random.sample(range(len(inputs)), 30000)\n",
        "\n",
        "inputs = [inputs[i] for i in random_indices]\n",
        "outputs = [outputs[i] for i in random_indices]"
      ],
      "metadata": {
        "id": "S0jfDWD237sf"
      },
      "execution_count": null,
      "outputs": []
    },
    {
      "cell_type": "code",
      "source": [
        "from sklearn.model_selection import train_test_split\n",
        "\n",
        "X_train, X_test, y_train, y_test = train_test_split(inputs, outputs, test_size=0.20)"
      ],
      "metadata": {
        "id": "oDwNO5cb4TCL"
      },
      "execution_count": null,
      "outputs": []
    },
    {
      "cell_type": "code",
      "source": [
        "dataset = {\n",
        "    \"text\":X_train,\n",
        "    \"target\":y_train\n",
        "}\n",
        "\n",
        "val_dataset = {\n",
        "    \"text\":X_test,\n",
        "    \"target\":y_test\n",
        "}"
      ],
      "metadata": {
        "id": "y-cBoKrr4YN6"
      },
      "execution_count": null,
      "outputs": []
    },
    {
      "cell_type": "code",
      "source": [
        "from xturing.datasets.instruction_dataset import InstructionDataset\n",
        "from xturing.datasets.text_dataset import TextDataset\n",
        "\n",
        "instruction_dataset = TextDataset(dataset)\n",
        "val_instruction_dataset = TextDataset(val_dataset)"
      ],
      "metadata": {
        "colab": {
          "base_uri": "https://localhost:8080/"
        },
        "id": "AKJjxcgH4auP",
        "outputId": "fd9670a8-967c-4503-d5b3-439b72847a74"
      },
      "execution_count": null,
      "outputs": [
        {
          "output_type": "stream",
          "name": "stdout",
          "text": [
            "[2025-04-01 13:14:57,514] [INFO] [real_accelerator.py:110:get_accelerator] Setting ds_accelerator to cuda (auto detect)\n"
          ]
        }
      ]
    },
    {
      "cell_type": "markdown",
      "source": [
        "# Load and Train Model"
      ],
      "metadata": {
        "id": "9zKH-RvU7Yto"
      }
    },
    {
      "cell_type": "code",
      "source": [
        "from xturing.models.base import BaseModel\n",
        "model = BaseModel.create(\"llama_lora\") # use llama_lora_int8 to train in 8 bit precision and save on resources"
      ],
      "metadata": {
        "colab": {
          "base_uri": "https://localhost:8080/",
          "height": 66,
          "referenced_widgets": [
            "8a1201b12a36468db854480641686b4e",
            "320b4f4766044ea781442e01cc631f80",
            "37d7a4303d48464cbb115b15213b634c",
            "7e609d0a29a442a4b05a88b6e81171d8",
            "a9379f6b1be64377a922d7b58e409ad4",
            "0f0e05698994438c85de31b7cfb1b630",
            "e74187fe55d24961abf675460891245c",
            "84f2874feb314074828a069601982481",
            "004aec6e51a743c7958ff809303f3a37",
            "d041c8f597144cd7b2ec2711e2372c2e",
            "43700eea6a354611a5205d0175925404"
          ]
        },
        "id": "cKsrNywx4ddG",
        "outputId": "5b235aea-85fc-4802-9b20-48650fc00af8"
      },
      "execution_count": null,
      "outputs": [
        {
          "output_type": "display_data",
          "data": {
            "text/plain": [
              "Loading checkpoint shards:   0%|          | 0/33 [00:00<?, ?it/s]"
            ],
            "application/vnd.jupyter.widget-view+json": {
              "version_major": 2,
              "version_minor": 0,
              "model_id": "8a1201b12a36468db854480641686b4e"
            }
          },
          "metadata": {}
        },
        {
          "output_type": "stream",
          "name": "stdout",
          "text": [
            "trainable params: 4194304 || all params: 6742609920 || trainable%: 0.06220594176090199\n"
          ]
        }
      ]
    },
    {
      "cell_type": "code",
      "source": [
        "finetuning_config = model.finetuning_config()\n",
        "finetuning_config.batch_size = 4\n",
        "finetuning_config.learning_rate = 1e-3\n",
        "finetuning_config.weight_decay = 0\n",
        "finetuning_config.max_grad_norm = 50.0\n",
        "finetuning_config.optimizer_name = \"adamw\"\n",
        "finetuning_config.num_train_epochs = 1\n",
        "finetuning_config.max_length = 200"
      ],
      "metadata": {
        "id": "vdV9f-IA5TKG"
      },
      "execution_count": null,
      "outputs": []
    },
    {
      "cell_type": "code",
      "source": [
        "model.finetune(dataset=instruction_dataset)"
      ],
      "metadata": {
        "id": "zpqrsDxC6PAg"
      },
      "execution_count": null,
      "outputs": []
    },
    {
      "cell_type": "code",
      "source": [
        "model.save(\"saved_model\")"
      ],
      "metadata": {
        "id": "rqVxHxBCe6ck"
      },
      "execution_count": null,
      "outputs": []
    },
    {
      "cell_type": "markdown",
      "source": [
        "  Remove the foloowing fields from the adapter config json file:\n",
        "  \n",
        "  \"enable_lora\": null,\n",
        "  \"merge_weights\": false,\n"
      ],
      "metadata": {
        "id": "ghTTuu0lkMnj"
      }
    },
    {
      "cell_type": "markdown",
      "source": [
        "# Generate with Transformers and PEFT"
      ],
      "metadata": {
        "id": "4h7ASJwNYB6g"
      }
    },
    {
      "cell_type": "code",
      "source": [
        "path = './saved_model'\n",
        "import torch\n",
        "import transformers\n",
        "from transformers import LlamaTokenizer, LlamaConfig, LlamaForCausalLM\n",
        "from peft import PeftModel\n",
        "\n",
        "tokenizer = LlamaTokenizer.from_pretrained(path)\n",
        "\n",
        "#transformer loaded. load  model.\n",
        "\n",
        "model = LlamaForCausalLM.from_pretrained(\n",
        "    'aleksickx/llama-7b-hf',\n",
        "    load_in_8bit=False,\n",
        "    torch_dtype=torch.float16,\n",
        "    device_map='auto'\n",
        ")\n",
        "\n",
        "\n"
      ],
      "metadata": {
        "id": "x07eTo4NXTR8"
      },
      "execution_count": null,
      "outputs": []
    },
    {
      "cell_type": "code",
      "source": [
        "#peft loaded. load lora.\n",
        "model = PeftModel.from_pretrained(\n",
        "    model,\n",
        "    path,\n",
        "    torch_dtype=torch.float16,\n",
        "    device_map='auto'\n",
        ")"
      ],
      "metadata": {
        "id": "YFRL_Mpflz9z"
      },
      "execution_count": null,
      "outputs": []
    },
    {
      "cell_type": "code",
      "source": [
        "from transformers import StoppingCriteria, StoppingCriteriaList\n",
        "import torch\n",
        "class StoppingCriteriaSub(StoppingCriteria):\n",
        "\n",
        "    def __init__(self, stops ,tokenizer):\n",
        "        super().__init__()\n",
        "        self.stops = [stop for stop in stops]\n",
        "        self.tokenizer = tokenizer\n",
        "    def __call__(self, input_ids: torch.LongTensor, scores: torch.FloatTensor):\n",
        "        for stop in self.stops:\n",
        "            if  stop in self.tokenizer.decode(input_ids[0]):\n",
        "                return True\n",
        "\n",
        "        return False"
      ],
      "metadata": {
        "id": "QfXXQ0eRXYTf"
      },
      "execution_count": null,
      "outputs": []
    },
    {
      "cell_type": "code",
      "source": [
        "stopping_criteria = StoppingCriteriaList([StoppingCriteriaSub(['<ELA>'],tokenizer)])\n",
        "tokenizer.pad_token = tokenizer.eos_token\n",
        "tokenizer.pad_token_id = tokenizer.eos_token_id"
      ],
      "metadata": {
        "id": "4nNVCWOtXbJG"
      },
      "execution_count": null,
      "outputs": []
    },
    {
      "cell_type": "code",
      "source": [
        "def generate(text):\n",
        "    input_ids = tokenizer(text, return_tensors='pt',padding=True,max_length=1000,truncation=True).to('cuda')\n",
        "    with torch.no_grad():\n",
        "        generated_ids = model.generate(**input_ids,max_length=500,stopping_criteria=stopping_criteria,do_sample=False,top_k=1,top_p=0.5,use_cache=True)\n",
        "        results = tokenizer.decode(generated_ids[0][input_ids['input_ids'][0].shape[0]:],skip_special_tokens=True)\n",
        "        return results"
      ],
      "metadata": {
        "id": "YxVB4iBEXeNg"
      },
      "execution_count": null,
      "outputs": []
    },
    {
      "cell_type": "code",
      "source": [
        "from tqdm import tqdm\n",
        "inputs = []\n",
        "outputs = []\n",
        "long_answers = []\n",
        "for inpt in tqdm(X_test):\n",
        "    if inpt:\n",
        "        text = generate(inpt)\n",
        "        long_answers.append(text)"
      ],
      "metadata": {
        "id": "CLfk1_h0XvfA"
      },
      "execution_count": null,
      "outputs": []
    }
  ]
}